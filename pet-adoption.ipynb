{
 "cells": [
  {
   "cell_type": "code",
   "execution_count": 1,
   "metadata": {
    "_cell_guid": "b1076dfc-b9ad-4769-8c92-a6c4dae69d19",
    "_uuid": "8f2839f25d086af736a60e9eeb907d3b93b6e0e5",
    "execution": {
     "iopub.execute_input": "2020-08-23T14:56:03.032918Z",
     "iopub.status.busy": "2020-08-23T14:56:03.032077Z",
     "iopub.status.idle": "2020-08-23T14:56:04.250897Z",
     "shell.execute_reply": "2020-08-23T14:56:04.251505Z"
    },
    "papermill": {
     "duration": 1.245916,
     "end_time": "2020-08-23T14:56:04.251730",
     "exception": false,
     "start_time": "2020-08-23T14:56:03.005814",
     "status": "completed"
    },
    "tags": []
   },
   "outputs": [
    {
     "name": "stdout",
     "output_type": "stream",
     "text": [
      "/kaggle/input/hackerearth-ml-challenge-pet-adoption/train.csv\n",
      "/kaggle/input/hackerearth-ml-challenge-pet-adoption/test.csv\n"
     ]
    }
   ],
   "source": [
    "# This Python 3 environment comes with many helpful analytics libraries installed\n",
    "# It is defined by the kaggle/python Docker image: https://github.com/kaggle/docker-python\n",
    "# For example, here are several helpful packages to load\n",
    "\n",
    "import numpy as np # linear algebra\n",
    "import pandas as pd # data processing, CSV file I/O (e.g. pd.read_csv)\n",
    "\n",
    "# Input data files are available in the read-only \"../input/\" directory\n",
    "# For example, running this (by clicking run or pressing Shift+Enter) will list all files under the input directory\n",
    "\n",
    "import os\n",
    "for dirname, _, filenames in os.walk('/kaggle/input'):\n",
    "    for filename in filenames:\n",
    "        print(os.path.join(dirname, filename))\n",
    "\n",
    "# You can write up to 5GB to the current directory (/kaggle/working/) that gets preserved as output when you create a version using \"Save & Run All\" \n",
    "# You can also write temporary files to /kaggle/temp/, but they won't be saved outside of the current session"
   ]
  },
  {
   "cell_type": "code",
   "execution_count": 2,
   "metadata": {
    "_cell_guid": "79c7e3d0-c299-4dcb-8224-4455121ee9b0",
    "_uuid": "d629ff2d2480ee46fbb7e2d37f6b5fab8052498a",
    "execution": {
     "iopub.execute_input": "2020-08-23T14:56:04.303891Z",
     "iopub.status.busy": "2020-08-23T14:56:04.303026Z",
     "iopub.status.idle": "2020-08-23T14:56:04.675199Z",
     "shell.execute_reply": "2020-08-23T14:56:04.674350Z"
    },
    "papermill": {
     "duration": 0.403612,
     "end_time": "2020-08-23T14:56:04.675345",
     "exception": false,
     "start_time": "2020-08-23T14:56:04.271733",
     "status": "completed"
    },
    "tags": []
   },
   "outputs": [
    {
     "data": {
      "text/html": [
       "<div>\n",
       "<style scoped>\n",
       "    .dataframe tbody tr th:only-of-type {\n",
       "        vertical-align: middle;\n",
       "    }\n",
       "\n",
       "    .dataframe tbody tr th {\n",
       "        vertical-align: top;\n",
       "    }\n",
       "\n",
       "    .dataframe thead th {\n",
       "        text-align: right;\n",
       "    }\n",
       "</style>\n",
       "<table border=\"1\" class=\"dataframe\">\n",
       "  <thead>\n",
       "    <tr style=\"text-align: right;\">\n",
       "      <th></th>\n",
       "      <th>pet_id</th>\n",
       "      <th>issue_date</th>\n",
       "      <th>listing_date</th>\n",
       "      <th>condition</th>\n",
       "      <th>color_type</th>\n",
       "      <th>length(m)</th>\n",
       "      <th>height(cm)</th>\n",
       "      <th>X1</th>\n",
       "      <th>X2</th>\n",
       "      <th>breed_category</th>\n",
       "      <th>pet_category</th>\n",
       "    </tr>\n",
       "  </thead>\n",
       "  <tbody>\n",
       "    <tr>\n",
       "      <th>0</th>\n",
       "      <td>ANSL_69903</td>\n",
       "      <td>2016-07-10 00:00:00</td>\n",
       "      <td>2016-09-21 16:25:00</td>\n",
       "      <td>2.0</td>\n",
       "      <td>Brown Tabby</td>\n",
       "      <td>0.80</td>\n",
       "      <td>7.78</td>\n",
       "      <td>13</td>\n",
       "      <td>9</td>\n",
       "      <td>0.0</td>\n",
       "      <td>1</td>\n",
       "    </tr>\n",
       "    <tr>\n",
       "      <th>1</th>\n",
       "      <td>ANSL_66892</td>\n",
       "      <td>2013-11-21 00:00:00</td>\n",
       "      <td>2018-12-27 17:47:00</td>\n",
       "      <td>1.0</td>\n",
       "      <td>White</td>\n",
       "      <td>0.72</td>\n",
       "      <td>14.19</td>\n",
       "      <td>13</td>\n",
       "      <td>9</td>\n",
       "      <td>0.0</td>\n",
       "      <td>2</td>\n",
       "    </tr>\n",
       "    <tr>\n",
       "      <th>2</th>\n",
       "      <td>ANSL_69750</td>\n",
       "      <td>2014-09-28 00:00:00</td>\n",
       "      <td>2016-10-19 08:24:00</td>\n",
       "      <td>NaN</td>\n",
       "      <td>Brown</td>\n",
       "      <td>0.15</td>\n",
       "      <td>40.90</td>\n",
       "      <td>15</td>\n",
       "      <td>4</td>\n",
       "      <td>2.0</td>\n",
       "      <td>4</td>\n",
       "    </tr>\n",
       "    <tr>\n",
       "      <th>3</th>\n",
       "      <td>ANSL_71623</td>\n",
       "      <td>2016-12-31 00:00:00</td>\n",
       "      <td>2019-01-25 18:30:00</td>\n",
       "      <td>1.0</td>\n",
       "      <td>White</td>\n",
       "      <td>0.62</td>\n",
       "      <td>17.82</td>\n",
       "      <td>0</td>\n",
       "      <td>1</td>\n",
       "      <td>0.0</td>\n",
       "      <td>2</td>\n",
       "    </tr>\n",
       "    <tr>\n",
       "      <th>4</th>\n",
       "      <td>ANSL_57969</td>\n",
       "      <td>2017-09-28 00:00:00</td>\n",
       "      <td>2017-11-19 09:38:00</td>\n",
       "      <td>2.0</td>\n",
       "      <td>Black</td>\n",
       "      <td>0.50</td>\n",
       "      <td>11.06</td>\n",
       "      <td>18</td>\n",
       "      <td>4</td>\n",
       "      <td>0.0</td>\n",
       "      <td>1</td>\n",
       "    </tr>\n",
       "  </tbody>\n",
       "</table>\n",
       "</div>"
      ],
      "text/plain": [
       "       pet_id           issue_date         listing_date  condition  \\\n",
       "0  ANSL_69903  2016-07-10 00:00:00  2016-09-21 16:25:00        2.0   \n",
       "1  ANSL_66892  2013-11-21 00:00:00  2018-12-27 17:47:00        1.0   \n",
       "2  ANSL_69750  2014-09-28 00:00:00  2016-10-19 08:24:00        NaN   \n",
       "3  ANSL_71623  2016-12-31 00:00:00  2019-01-25 18:30:00        1.0   \n",
       "4  ANSL_57969  2017-09-28 00:00:00  2017-11-19 09:38:00        2.0   \n",
       "\n",
       "    color_type  length(m)  height(cm)  X1  X2  breed_category  pet_category  \n",
       "0  Brown Tabby       0.80        7.78  13   9             0.0             1  \n",
       "1        White       0.72       14.19  13   9             0.0             2  \n",
       "2        Brown       0.15       40.90  15   4             2.0             4  \n",
       "3        White       0.62       17.82   0   1             0.0             2  \n",
       "4        Black       0.50       11.06  18   4             0.0             1  "
      ]
     },
     "execution_count": 2,
     "metadata": {},
     "output_type": "execute_result"
    }
   ],
   "source": [
    "train=pd.read_csv(\"../input/hackerearth-ml-challenge-pet-adoption/train.csv\")\n",
    "test=pd.read_csv(\"../input/hackerearth-ml-challenge-pet-adoption/test.csv\")\n",
    "train.head()"
   ]
  },
  {
   "cell_type": "code",
   "execution_count": 3,
   "metadata": {
    "execution": {
     "iopub.execute_input": "2020-08-23T14:56:04.730900Z",
     "iopub.status.busy": "2020-08-23T14:56:04.729479Z",
     "iopub.status.idle": "2020-08-23T14:56:04.736122Z",
     "shell.execute_reply": "2020-08-23T14:56:04.735415Z"
    },
    "papermill": {
     "duration": 0.041798,
     "end_time": "2020-08-23T14:56:04.736263",
     "exception": false,
     "start_time": "2020-08-23T14:56:04.694465",
     "status": "completed"
    },
    "tags": []
   },
   "outputs": [
    {
     "data": {
      "text/html": [
       "<div>\n",
       "<style scoped>\n",
       "    .dataframe tbody tr th:only-of-type {\n",
       "        vertical-align: middle;\n",
       "    }\n",
       "\n",
       "    .dataframe tbody tr th {\n",
       "        vertical-align: top;\n",
       "    }\n",
       "\n",
       "    .dataframe thead th {\n",
       "        text-align: right;\n",
       "    }\n",
       "</style>\n",
       "<table border=\"1\" class=\"dataframe\">\n",
       "  <thead>\n",
       "    <tr style=\"text-align: right;\">\n",
       "      <th></th>\n",
       "      <th>pet_id</th>\n",
       "      <th>issue_date</th>\n",
       "      <th>listing_date</th>\n",
       "      <th>condition</th>\n",
       "      <th>color_type</th>\n",
       "      <th>length(m)</th>\n",
       "      <th>height(cm)</th>\n",
       "      <th>X1</th>\n",
       "      <th>X2</th>\n",
       "    </tr>\n",
       "  </thead>\n",
       "  <tbody>\n",
       "    <tr>\n",
       "      <th>0</th>\n",
       "      <td>ANSL_75005</td>\n",
       "      <td>2005-08-17 00:00:00</td>\n",
       "      <td>2017-09-07 15:35:00</td>\n",
       "      <td>0.0</td>\n",
       "      <td>Black</td>\n",
       "      <td>0.87</td>\n",
       "      <td>42.73</td>\n",
       "      <td>0</td>\n",
       "      <td>7</td>\n",
       "    </tr>\n",
       "    <tr>\n",
       "      <th>1</th>\n",
       "      <td>ANSL_76663</td>\n",
       "      <td>2018-11-15 00:00:00</td>\n",
       "      <td>2019-05-08 17:24:00</td>\n",
       "      <td>1.0</td>\n",
       "      <td>Orange Tabby</td>\n",
       "      <td>0.06</td>\n",
       "      <td>6.71</td>\n",
       "      <td>0</td>\n",
       "      <td>1</td>\n",
       "    </tr>\n",
       "    <tr>\n",
       "      <th>2</th>\n",
       "      <td>ANSL_58259</td>\n",
       "      <td>2012-10-11 00:00:00</td>\n",
       "      <td>2018-04-02 16:51:00</td>\n",
       "      <td>1.0</td>\n",
       "      <td>Black</td>\n",
       "      <td>0.24</td>\n",
       "      <td>41.21</td>\n",
       "      <td>0</td>\n",
       "      <td>7</td>\n",
       "    </tr>\n",
       "    <tr>\n",
       "      <th>3</th>\n",
       "      <td>ANSL_67171</td>\n",
       "      <td>2015-02-13 00:00:00</td>\n",
       "      <td>2018-04-06 07:25:00</td>\n",
       "      <td>1.0</td>\n",
       "      <td>Black</td>\n",
       "      <td>0.29</td>\n",
       "      <td>8.46</td>\n",
       "      <td>7</td>\n",
       "      <td>1</td>\n",
       "    </tr>\n",
       "    <tr>\n",
       "      <th>4</th>\n",
       "      <td>ANSL_72871</td>\n",
       "      <td>2017-01-18 00:00:00</td>\n",
       "      <td>2018-04-26 13:42:00</td>\n",
       "      <td>1.0</td>\n",
       "      <td>Brown</td>\n",
       "      <td>0.71</td>\n",
       "      <td>30.92</td>\n",
       "      <td>0</td>\n",
       "      <td>7</td>\n",
       "    </tr>\n",
       "  </tbody>\n",
       "</table>\n",
       "</div>"
      ],
      "text/plain": [
       "       pet_id           issue_date         listing_date  condition  \\\n",
       "0  ANSL_75005  2005-08-17 00:00:00  2017-09-07 15:35:00        0.0   \n",
       "1  ANSL_76663  2018-11-15 00:00:00  2019-05-08 17:24:00        1.0   \n",
       "2  ANSL_58259  2012-10-11 00:00:00  2018-04-02 16:51:00        1.0   \n",
       "3  ANSL_67171  2015-02-13 00:00:00  2018-04-06 07:25:00        1.0   \n",
       "4  ANSL_72871  2017-01-18 00:00:00  2018-04-26 13:42:00        1.0   \n",
       "\n",
       "     color_type  length(m)  height(cm)  X1  X2  \n",
       "0         Black       0.87       42.73   0   7  \n",
       "1  Orange Tabby       0.06        6.71   0   1  \n",
       "2         Black       0.24       41.21   0   7  \n",
       "3         Black       0.29        8.46   7   1  \n",
       "4         Brown       0.71       30.92   0   7  "
      ]
     },
     "execution_count": 3,
     "metadata": {},
     "output_type": "execute_result"
    }
   ],
   "source": [
    "test.head()"
   ]
  },
  {
   "cell_type": "code",
   "execution_count": 4,
   "metadata": {
    "execution": {
     "iopub.execute_input": "2020-08-23T14:56:04.779137Z",
     "iopub.status.busy": "2020-08-23T14:56:04.778322Z",
     "iopub.status.idle": "2020-08-23T14:56:04.783904Z",
     "shell.execute_reply": "2020-08-23T14:56:04.783173Z"
    },
    "papermill": {
     "duration": 0.029336,
     "end_time": "2020-08-23T14:56:04.784035",
     "exception": false,
     "start_time": "2020-08-23T14:56:04.754699",
     "status": "completed"
    },
    "tags": []
   },
   "outputs": [
    {
     "data": {
      "text/plain": [
       "((18834, 11), (8072, 9))"
      ]
     },
     "execution_count": 4,
     "metadata": {},
     "output_type": "execute_result"
    }
   ],
   "source": [
    "train.shape,test.shape"
   ]
  },
  {
   "cell_type": "code",
   "execution_count": 5,
   "metadata": {
    "execution": {
     "iopub.execute_input": "2020-08-23T14:56:04.873650Z",
     "iopub.status.busy": "2020-08-23T14:56:04.871786Z",
     "iopub.status.idle": "2020-08-23T14:56:04.894272Z",
     "shell.execute_reply": "2020-08-23T14:56:04.894845Z"
    },
    "papermill": {
     "duration": 0.05666,
     "end_time": "2020-08-23T14:56:04.895022",
     "exception": false,
     "start_time": "2020-08-23T14:56:04.838362",
     "status": "completed"
    },
    "tags": []
   },
   "outputs": [
    {
     "name": "stdout",
     "output_type": "stream",
     "text": [
      "<class 'pandas.core.frame.DataFrame'>\n",
      "RangeIndex: 18834 entries, 0 to 18833\n",
      "Data columns (total 11 columns):\n",
      " #   Column          Non-Null Count  Dtype  \n",
      "---  ------          --------------  -----  \n",
      " 0   pet_id          18834 non-null  object \n",
      " 1   issue_date      18834 non-null  object \n",
      " 2   listing_date    18834 non-null  object \n",
      " 3   condition       17357 non-null  float64\n",
      " 4   color_type      18834 non-null  object \n",
      " 5   length(m)       18834 non-null  float64\n",
      " 6   height(cm)      18834 non-null  float64\n",
      " 7   X1              18834 non-null  int64  \n",
      " 8   X2              18834 non-null  int64  \n",
      " 9   breed_category  18834 non-null  float64\n",
      " 10  pet_category    18834 non-null  int64  \n",
      "dtypes: float64(4), int64(3), object(4)\n",
      "memory usage: 1.6+ MB\n"
     ]
    }
   ],
   "source": [
    "train.info()"
   ]
  },
  {
   "cell_type": "code",
   "execution_count": 6,
   "metadata": {
    "execution": {
     "iopub.execute_input": "2020-08-23T14:56:04.943998Z",
     "iopub.status.busy": "2020-08-23T14:56:04.943131Z",
     "iopub.status.idle": "2020-08-23T14:56:04.954889Z",
     "shell.execute_reply": "2020-08-23T14:56:04.954091Z"
    },
    "papermill": {
     "duration": 0.041174,
     "end_time": "2020-08-23T14:56:04.955020",
     "exception": false,
     "start_time": "2020-08-23T14:56:04.913846",
     "status": "completed"
    },
    "tags": []
   },
   "outputs": [
    {
     "name": "stdout",
     "output_type": "stream",
     "text": [
      "<class 'pandas.core.frame.DataFrame'>\n",
      "RangeIndex: 8072 entries, 0 to 8071\n",
      "Data columns (total 9 columns):\n",
      " #   Column        Non-Null Count  Dtype  \n",
      "---  ------        --------------  -----  \n",
      " 0   pet_id        8072 non-null   object \n",
      " 1   issue_date    8072 non-null   object \n",
      " 2   listing_date  8072 non-null   object \n",
      " 3   condition     7453 non-null   float64\n",
      " 4   color_type    8072 non-null   object \n",
      " 5   length(m)     8072 non-null   float64\n",
      " 6   height(cm)    8072 non-null   float64\n",
      " 7   X1            8072 non-null   int64  \n",
      " 8   X2            8072 non-null   int64  \n",
      "dtypes: float64(3), int64(2), object(4)\n",
      "memory usage: 567.7+ KB\n"
     ]
    }
   ],
   "source": [
    "test.info()"
   ]
  },
  {
   "cell_type": "markdown",
   "metadata": {
    "papermill": {
     "duration": 0.018791,
     "end_time": "2020-08-23T14:56:04.992517",
     "exception": false,
     "start_time": "2020-08-23T14:56:04.973726",
     "status": "completed"
    },
    "tags": []
   },
   "source": [
    "we found missing values only in the column of 'Condition'."
   ]
  },
  {
   "cell_type": "code",
   "execution_count": 7,
   "metadata": {
    "execution": {
     "iopub.execute_input": "2020-08-23T14:56:05.037252Z",
     "iopub.status.busy": "2020-08-23T14:56:05.036453Z",
     "iopub.status.idle": "2020-08-23T14:56:05.046568Z",
     "shell.execute_reply": "2020-08-23T14:56:05.045683Z"
    },
    "papermill": {
     "duration": 0.035168,
     "end_time": "2020-08-23T14:56:05.046719",
     "exception": false,
     "start_time": "2020-08-23T14:56:05.011551",
     "status": "completed"
    },
    "tags": []
   },
   "outputs": [
    {
     "data": {
      "text/plain": [
       "0.0    9000\n",
       "1.0    8357\n",
       "2.0    1477\n",
       "Name: breed_category, dtype: int64"
      ]
     },
     "execution_count": 7,
     "metadata": {},
     "output_type": "execute_result"
    }
   ],
   "source": [
    "train['breed_category'].value_counts()"
   ]
  },
  {
   "cell_type": "code",
   "execution_count": 8,
   "metadata": {
    "execution": {
     "iopub.execute_input": "2020-08-23T14:56:05.093359Z",
     "iopub.status.busy": "2020-08-23T14:56:05.092245Z",
     "iopub.status.idle": "2020-08-23T14:56:05.102869Z",
     "shell.execute_reply": "2020-08-23T14:56:05.102037Z"
    },
    "papermill": {
     "duration": 0.037357,
     "end_time": "2020-08-23T14:56:05.103009",
     "exception": false,
     "start_time": "2020-08-23T14:56:05.065652",
     "status": "completed"
    },
    "tags": []
   },
   "outputs": [
    {
     "data": {
      "text/plain": [
       "2.0    1477\n",
       "Name: breed_category, dtype: int64"
      ]
     },
     "execution_count": 8,
     "metadata": {},
     "output_type": "execute_result"
    }
   ],
   "source": [
    "#cheak\n",
    "a=train['breed_category'][(np.isnan(train['condition']))]\n",
    "a.value_counts()"
   ]
  },
  {
   "cell_type": "markdown",
   "metadata": {
    "papermill": {
     "duration": 0.018976,
     "end_time": "2020-08-23T14:56:05.180757",
     "exception": false,
     "start_time": "2020-08-23T14:56:05.161781",
     "status": "completed"
    },
    "tags": []
   },
   "source": [
    "**combine train and test data** "
   ]
  },
  {
   "cell_type": "code",
   "execution_count": 9,
   "metadata": {
    "execution": {
     "iopub.execute_input": "2020-08-23T14:56:05.227419Z",
     "iopub.status.busy": "2020-08-23T14:56:05.226338Z",
     "iopub.status.idle": "2020-08-23T14:56:05.230991Z",
     "shell.execute_reply": "2020-08-23T14:56:05.230155Z"
    },
    "papermill": {
     "duration": 0.031163,
     "end_time": "2020-08-23T14:56:05.231145",
     "exception": false,
     "start_time": "2020-08-23T14:56:05.199982",
     "status": "completed"
    },
    "tags": []
   },
   "outputs": [],
   "source": [
    "#copy all test id to create submission file\n",
    "test_id=test['pet_id']\n",
    "#save the train left...it will use when the combine data will split into the previous train and test data after doing feature engineering\n",
    "ntrain=train.shape[0]"
   ]
  },
  {
   "cell_type": "code",
   "execution_count": 10,
   "metadata": {
    "execution": {
     "iopub.execute_input": "2020-08-23T14:56:05.278916Z",
     "iopub.status.busy": "2020-08-23T14:56:05.278030Z",
     "iopub.status.idle": "2020-08-23T14:56:05.281654Z",
     "shell.execute_reply": "2020-08-23T14:56:05.282216Z"
    },
    "papermill": {
     "duration": 0.030836,
     "end_time": "2020-08-23T14:56:05.282676",
     "exception": false,
     "start_time": "2020-08-23T14:56:05.251840",
     "status": "completed"
    },
    "tags": []
   },
   "outputs": [],
   "source": [
    "#save target variable i.e label\n",
    "y1=train['breed_category']\n",
    "y2=train['pet_category']"
   ]
  },
  {
   "cell_type": "code",
   "execution_count": 11,
   "metadata": {
    "execution": {
     "iopub.execute_input": "2020-08-23T14:56:05.338137Z",
     "iopub.status.busy": "2020-08-23T14:56:05.336894Z",
     "iopub.status.idle": "2020-08-23T14:56:05.363383Z",
     "shell.execute_reply": "2020-08-23T14:56:05.362622Z"
    },
    "papermill": {
     "duration": 0.06033,
     "end_time": "2020-08-23T14:56:05.363566",
     "exception": false,
     "start_time": "2020-08-23T14:56:05.303236",
     "status": "completed"
    },
    "tags": []
   },
   "outputs": [],
   "source": [
    "#combine test and train data\n",
    "all_data = pd.concat((train, test)).reset_index(drop=True)\n",
    "all_data.drop(['breed_category','pet_category'], axis=1, inplace=True)"
   ]
  },
  {
   "cell_type": "code",
   "execution_count": 12,
   "metadata": {
    "execution": {
     "iopub.execute_input": "2020-08-23T14:56:05.561565Z",
     "iopub.status.busy": "2020-08-23T14:56:05.560743Z",
     "iopub.status.idle": "2020-08-23T14:56:05.572937Z",
     "shell.execute_reply": "2020-08-23T14:56:05.572097Z"
    },
    "papermill": {
     "duration": 0.044432,
     "end_time": "2020-08-23T14:56:05.573122",
     "exception": false,
     "start_time": "2020-08-23T14:56:05.528690",
     "status": "completed"
    },
    "tags": []
   },
   "outputs": [
    {
     "data": {
      "text/plain": [
       "1.0    9747\n",
       "0.0    8966\n",
       "2.0    6097\n",
       "Name: condition, dtype: int64"
      ]
     },
     "execution_count": 12,
     "metadata": {},
     "output_type": "execute_result"
    }
   ],
   "source": [
    "all_data['condition'].value_counts()"
   ]
  },
  {
   "cell_type": "code",
   "execution_count": 13,
   "metadata": {
    "execution": {
     "iopub.execute_input": "2020-08-23T14:56:05.624414Z",
     "iopub.status.busy": "2020-08-23T14:56:05.623291Z",
     "iopub.status.idle": "2020-08-23T14:56:05.629105Z",
     "shell.execute_reply": "2020-08-23T14:56:05.629980Z"
    },
    "papermill": {
     "duration": 0.034401,
     "end_time": "2020-08-23T14:56:05.630195",
     "exception": false,
     "start_time": "2020-08-23T14:56:05.595794",
     "status": "completed"
    },
    "tags": []
   },
   "outputs": [],
   "source": [
    "all_data['condition'].fillna(-1,inplace=True)"
   ]
  },
  {
   "cell_type": "code",
   "execution_count": 14,
   "metadata": {
    "execution": {
     "iopub.execute_input": "2020-08-23T14:56:05.679418Z",
     "iopub.status.busy": "2020-08-23T14:56:05.678583Z",
     "iopub.status.idle": "2020-08-23T14:56:05.687531Z",
     "shell.execute_reply": "2020-08-23T14:56:05.686826Z"
    },
    "papermill": {
     "duration": 0.034911,
     "end_time": "2020-08-23T14:56:05.687661",
     "exception": false,
     "start_time": "2020-08-23T14:56:05.652750",
     "status": "completed"
    },
    "tags": []
   },
   "outputs": [
    {
     "data": {
      "text/plain": [
       " 1.0    9747\n",
       " 0.0    8966\n",
       " 2.0    6097\n",
       "-1.0    2096\n",
       "Name: condition, dtype: int64"
      ]
     },
     "execution_count": 14,
     "metadata": {},
     "output_type": "execute_result"
    }
   ],
   "source": [
    "all_data['condition'].value_counts()"
   ]
  },
  {
   "cell_type": "code",
   "execution_count": 15,
   "metadata": {
    "execution": {
     "iopub.execute_input": "2020-08-23T14:56:05.746140Z",
     "iopub.status.busy": "2020-08-23T14:56:05.745316Z",
     "iopub.status.idle": "2020-08-23T14:56:05.759726Z",
     "shell.execute_reply": "2020-08-23T14:56:05.759005Z"
    },
    "papermill": {
     "duration": 0.052009,
     "end_time": "2020-08-23T14:56:05.759873",
     "exception": false,
     "start_time": "2020-08-23T14:56:05.707864",
     "status": "completed"
    },
    "tags": []
   },
   "outputs": [
    {
     "name": "stdout",
     "output_type": "stream",
     "text": [
      "<class 'pandas.core.frame.DataFrame'>\n",
      "RangeIndex: 26906 entries, 0 to 26905\n",
      "Data columns (total 9 columns):\n",
      " #   Column        Non-Null Count  Dtype  \n",
      "---  ------        --------------  -----  \n",
      " 0   pet_id        26906 non-null  object \n",
      " 1   issue_date    26906 non-null  object \n",
      " 2   listing_date  26906 non-null  object \n",
      " 3   condition     26906 non-null  float64\n",
      " 4   color_type    26906 non-null  object \n",
      " 5   length(m)     26906 non-null  float64\n",
      " 6   height(cm)    26906 non-null  float64\n",
      " 7   X1            26906 non-null  int64  \n",
      " 8   X2            26906 non-null  int64  \n",
      "dtypes: float64(3), int64(2), object(4)\n",
      "memory usage: 1.8+ MB\n"
     ]
    }
   ],
   "source": [
    "all_data.info()"
   ]
  },
  {
   "cell_type": "code",
   "execution_count": 16,
   "metadata": {
    "execution": {
     "iopub.execute_input": "2020-08-23T14:56:05.909510Z",
     "iopub.status.busy": "2020-08-23T14:56:05.895837Z",
     "iopub.status.idle": "2020-08-23T14:56:05.915600Z",
     "shell.execute_reply": "2020-08-23T14:56:05.914882Z"
    },
    "papermill": {
     "duration": 0.057074,
     "end_time": "2020-08-23T14:56:05.915752",
     "exception": false,
     "start_time": "2020-08-23T14:56:05.858678",
     "status": "completed"
    },
    "tags": []
   },
   "outputs": [],
   "source": [
    "all_data['issue_date']=pd.to_datetime(all_data['issue_date'])\n",
    "all_data['listing_date']=pd.to_datetime(all_data['listing_date'])\n"
   ]
  },
  {
   "cell_type": "code",
   "execution_count": 17,
   "metadata": {
    "execution": {
     "iopub.execute_input": "2020-08-23T14:56:06.102756Z",
     "iopub.status.busy": "2020-08-23T14:56:06.085790Z",
     "iopub.status.idle": "2020-08-23T14:56:06.106849Z",
     "shell.execute_reply": "2020-08-23T14:56:06.105945Z"
    },
    "papermill": {
     "duration": 0.170238,
     "end_time": "2020-08-23T14:56:06.106997",
     "exception": false,
     "start_time": "2020-08-23T14:56:05.936759",
     "status": "completed"
    },
    "tags": []
   },
   "outputs": [],
   "source": [
    "x=[]\n",
    "for d in all_data['issue_date']:\n",
    "    y=d.month\n",
    "    x.append(y)\n",
    "all_data['issue_month']=x"
   ]
  },
  {
   "cell_type": "code",
   "execution_count": 18,
   "metadata": {
    "execution": {
     "iopub.execute_input": "2020-08-23T14:56:06.221831Z",
     "iopub.status.busy": "2020-08-23T14:56:06.220951Z",
     "iopub.status.idle": "2020-08-23T14:56:06.226684Z",
     "shell.execute_reply": "2020-08-23T14:56:06.225835Z"
    },
    "papermill": {
     "duration": 0.098933,
     "end_time": "2020-08-23T14:56:06.226836",
     "exception": false,
     "start_time": "2020-08-23T14:56:06.127903",
     "status": "completed"
    },
    "tags": []
   },
   "outputs": [],
   "source": [
    "x=[]\n",
    "for d in all_data['listing_date']:\n",
    "    y=d.month\n",
    "    x.append(y)\n",
    "all_data['listing_month']=x"
   ]
  },
  {
   "cell_type": "code",
   "execution_count": 19,
   "metadata": {
    "execution": {
     "iopub.execute_input": "2020-08-23T14:56:06.376433Z",
     "iopub.status.busy": "2020-08-23T14:56:06.371370Z",
     "iopub.status.idle": "2020-08-23T14:56:06.433066Z",
     "shell.execute_reply": "2020-08-23T14:56:06.433634Z"
    },
    "papermill": {
     "duration": 0.104077,
     "end_time": "2020-08-23T14:56:06.433807",
     "exception": false,
     "start_time": "2020-08-23T14:56:06.329730",
     "status": "completed"
    },
    "tags": []
   },
   "outputs": [],
   "source": [
    "x=[]\n",
    "for d in all_data['listing_date']:\n",
    "    y=d.year+(d.month/12.0)+(d.day/365.0)\n",
    "    x.append(y)\n",
    "all_data['modified_listing_date']=x"
   ]
  },
  {
   "cell_type": "code",
   "execution_count": 20,
   "metadata": {
    "execution": {
     "iopub.execute_input": "2020-08-23T14:56:06.501178Z",
     "iopub.status.busy": "2020-08-23T14:56:06.500412Z",
     "iopub.status.idle": "2020-08-23T14:56:06.657874Z",
     "shell.execute_reply": "2020-08-23T14:56:06.657041Z"
    },
    "papermill": {
     "duration": 0.203947,
     "end_time": "2020-08-23T14:56:06.658013",
     "exception": false,
     "start_time": "2020-08-23T14:56:06.454066",
     "status": "completed"
    },
    "tags": []
   },
   "outputs": [],
   "source": [
    "x=[]\n",
    "for d in all_data['issue_date']:\n",
    "    y=d.year+(d.month/12.0)+(d.day/365.0)\n",
    "    x.append(y)\n",
    "all_data['modified_issue_date']=x"
   ]
  },
  {
   "cell_type": "code",
   "execution_count": 21,
   "metadata": {
    "execution": {
     "iopub.execute_input": "2020-08-23T14:56:06.706123Z",
     "iopub.status.busy": "2020-08-23T14:56:06.705292Z",
     "iopub.status.idle": "2020-08-23T14:56:06.732314Z",
     "shell.execute_reply": "2020-08-23T14:56:06.731668Z"
    },
    "papermill": {
     "duration": 0.054208,
     "end_time": "2020-08-23T14:56:06.732482",
     "exception": false,
     "start_time": "2020-08-23T14:56:06.678274",
     "status": "completed"
    },
    "tags": []
   },
   "outputs": [],
   "source": [
    "all_data['took_time']=abs(all_data['modified_listing_date']-all_data['modified_issue_date'])"
   ]
  },
  {
   "cell_type": "code",
   "execution_count": 22,
   "metadata": {
    "execution": {
     "iopub.execute_input": "2020-08-23T14:56:06.916569Z",
     "iopub.status.busy": "2020-08-23T14:56:06.915724Z",
     "iopub.status.idle": "2020-08-23T14:56:06.950483Z",
     "shell.execute_reply": "2020-08-23T14:56:06.949793Z"
    },
    "papermill": {
     "duration": 0.117374,
     "end_time": "2020-08-23T14:56:06.950617",
     "exception": false,
     "start_time": "2020-08-23T14:56:06.833243",
     "status": "completed"
    },
    "tags": []
   },
   "outputs": [],
   "source": [
    "\n",
    "all_data['1stnum'] = all_data['pet_id'].str[:6]\n",
    "all_data['1st2num'] = all_data['pet_id'].str[:7]"
   ]
  },
  {
   "cell_type": "markdown",
   "metadata": {
    "papermill": {
     "duration": 0.020089,
     "end_time": "2020-08-23T14:56:06.991530",
     "exception": false,
     "start_time": "2020-08-23T14:56:06.971441",
     "status": "completed"
    },
    "tags": []
   },
   "source": [
    "split back to the train and test data"
   ]
  },
  {
   "cell_type": "code",
   "execution_count": 23,
   "metadata": {
    "execution": {
     "iopub.execute_input": "2020-08-23T14:56:07.040471Z",
     "iopub.status.busy": "2020-08-23T14:56:07.039326Z",
     "iopub.status.idle": "2020-08-23T14:56:07.043687Z",
     "shell.execute_reply": "2020-08-23T14:56:07.042878Z"
    },
    "papermill": {
     "duration": 0.031662,
     "end_time": "2020-08-23T14:56:07.043839",
     "exception": false,
     "start_time": "2020-08-23T14:56:07.012177",
     "status": "completed"
    },
    "tags": []
   },
   "outputs": [],
   "source": [
    "train = all_data[:ntrain]\n",
    "test = all_data[ntrain:]"
   ]
  },
  {
   "cell_type": "code",
   "execution_count": 24,
   "metadata": {
    "execution": {
     "iopub.execute_input": "2020-08-23T14:56:07.096215Z",
     "iopub.status.busy": "2020-08-23T14:56:07.095311Z",
     "iopub.status.idle": "2020-08-23T14:56:07.114374Z",
     "shell.execute_reply": "2020-08-23T14:56:07.115005Z"
    },
    "papermill": {
     "duration": 0.049565,
     "end_time": "2020-08-23T14:56:07.115222",
     "exception": false,
     "start_time": "2020-08-23T14:56:07.065657",
     "status": "completed"
    },
    "tags": []
   },
   "outputs": [],
   "source": [
    "#drop some unnecessary features\n",
    "x=train.drop(['pet_id','issue_date','listing_date','modified_issue_date'],axis=1)\n",
    "test=test.drop(['pet_id','issue_date','listing_date','modified_issue_date'],axis=1)\n"
   ]
  },
  {
   "cell_type": "markdown",
   "metadata": {
    "papermill": {
     "duration": 0.020942,
     "end_time": "2020-08-23T14:56:07.157246",
     "exception": false,
     "start_time": "2020-08-23T14:56:07.136304",
     "status": "completed"
    },
    "tags": []
   },
   "source": [
    "* **handle categorical variable**"
   ]
  },
  {
   "cell_type": "code",
   "execution_count": 25,
   "metadata": {
    "execution": {
     "iopub.execute_input": "2020-08-23T14:56:07.210144Z",
     "iopub.status.busy": "2020-08-23T14:56:07.209019Z",
     "iopub.status.idle": "2020-08-23T14:56:07.214978Z",
     "shell.execute_reply": "2020-08-23T14:56:07.214290Z"
    },
    "papermill": {
     "duration": 0.037365,
     "end_time": "2020-08-23T14:56:07.215123",
     "exception": false,
     "start_time": "2020-08-23T14:56:07.177758",
     "status": "completed"
    },
    "tags": []
   },
   "outputs": [
    {
     "data": {
      "text/plain": [
       "['color_type', '1stnum', '1st2num']"
      ]
     },
     "execution_count": 25,
     "metadata": {},
     "output_type": "execute_result"
    }
   ],
   "source": [
    "x.select_dtypes(exclude='number').columns.to_list()"
   ]
  },
  {
   "cell_type": "markdown",
   "metadata": {
    "papermill": {
     "duration": 0.021326,
     "end_time": "2020-08-23T14:56:07.258292",
     "exception": false,
     "start_time": "2020-08-23T14:56:07.236966",
     "status": "completed"
    },
    "tags": []
   },
   "source": [
    "One Hot endcode"
   ]
  },
  {
   "cell_type": "code",
   "execution_count": 26,
   "metadata": {
    "execution": {
     "iopub.execute_input": "2020-08-23T14:56:07.307664Z",
     "iopub.status.busy": "2020-08-23T14:56:07.306643Z",
     "iopub.status.idle": "2020-08-23T14:56:07.312986Z",
     "shell.execute_reply": "2020-08-23T14:56:07.312310Z"
    },
    "papermill": {
     "duration": 0.033548,
     "end_time": "2020-08-23T14:56:07.313126",
     "exception": false,
     "start_time": "2020-08-23T14:56:07.279578",
     "status": "completed"
    },
    "tags": []
   },
   "outputs": [
    {
     "data": {
      "text/plain": [
       "(18834, 12)"
      ]
     },
     "execution_count": 26,
     "metadata": {},
     "output_type": "execute_result"
    }
   ],
   "source": [
    "x.shape"
   ]
  },
  {
   "cell_type": "code",
   "execution_count": 27,
   "metadata": {
    "execution": {
     "iopub.execute_input": "2020-08-23T14:56:07.367114Z",
     "iopub.status.busy": "2020-08-23T14:56:07.362779Z",
     "iopub.status.idle": "2020-08-23T14:56:07.401867Z",
     "shell.execute_reply": "2020-08-23T14:56:07.401175Z"
    },
    "papermill": {
     "duration": 0.067411,
     "end_time": "2020-08-23T14:56:07.401999",
     "exception": false,
     "start_time": "2020-08-23T14:56:07.334588",
     "status": "completed"
    },
    "tags": []
   },
   "outputs": [],
   "source": [
    "x=pd.get_dummies(x)\n",
    "test=pd.get_dummies(test)\n"
   ]
  },
  {
   "cell_type": "code",
   "execution_count": 28,
   "metadata": {
    "execution": {
     "iopub.execute_input": "2020-08-23T14:56:07.451098Z",
     "iopub.status.busy": "2020-08-23T14:56:07.450346Z",
     "iopub.status.idle": "2020-08-23T14:56:07.455825Z",
     "shell.execute_reply": "2020-08-23T14:56:07.455088Z"
    },
    "papermill": {
     "duration": 0.032053,
     "end_time": "2020-08-23T14:56:07.455958",
     "exception": false,
     "start_time": "2020-08-23T14:56:07.423905",
     "status": "completed"
    },
    "tags": []
   },
   "outputs": [
    {
     "data": {
      "text/plain": [
       "((18834, 97), (8072, 95))"
      ]
     },
     "execution_count": 28,
     "metadata": {},
     "output_type": "execute_result"
    }
   ],
   "source": [
    "x.shape,test.shape"
   ]
  },
  {
   "cell_type": "code",
   "execution_count": 29,
   "metadata": {
    "execution": {
     "iopub.execute_input": "2020-08-23T14:56:07.547297Z",
     "iopub.status.busy": "2020-08-23T14:56:07.546264Z",
     "iopub.status.idle": "2020-08-23T14:56:07.550283Z",
     "shell.execute_reply": "2020-08-23T14:56:07.549609Z"
    },
    "papermill": {
     "duration": 0.031644,
     "end_time": "2020-08-23T14:56:07.550449",
     "exception": false,
     "start_time": "2020-08-23T14:56:07.518805",
     "status": "completed"
    },
    "tags": []
   },
   "outputs": [],
   "source": [
    "a=set(x.columns)-set(test.columns)"
   ]
  },
  {
   "cell_type": "code",
   "execution_count": 30,
   "metadata": {
    "execution": {
     "iopub.execute_input": "2020-08-23T14:56:07.602081Z",
     "iopub.status.busy": "2020-08-23T14:56:07.600903Z",
     "iopub.status.idle": "2020-08-23T14:56:07.606482Z",
     "shell.execute_reply": "2020-08-23T14:56:07.605699Z"
    },
    "papermill": {
     "duration": 0.033952,
     "end_time": "2020-08-23T14:56:07.606624",
     "exception": false,
     "start_time": "2020-08-23T14:56:07.572672",
     "status": "completed"
    },
    "tags": []
   },
   "outputs": [
    {
     "data": {
      "text/plain": [
       "['color_type_Black Tiger', 'color_type_Brown Tiger']"
      ]
     },
     "execution_count": 30,
     "metadata": {},
     "output_type": "execute_result"
    }
   ],
   "source": [
    "a=list(a)\n",
    "a"
   ]
  },
  {
   "cell_type": "code",
   "execution_count": 31,
   "metadata": {
    "execution": {
     "iopub.execute_input": "2020-08-23T14:56:07.657687Z",
     "iopub.status.busy": "2020-08-23T14:56:07.656938Z",
     "iopub.status.idle": "2020-08-23T14:56:07.668519Z",
     "shell.execute_reply": "2020-08-23T14:56:07.667722Z"
    },
    "papermill": {
     "duration": 0.040165,
     "end_time": "2020-08-23T14:56:07.668652",
     "exception": false,
     "start_time": "2020-08-23T14:56:07.628487",
     "status": "completed"
    },
    "tags": []
   },
   "outputs": [],
   "source": [
    "x=x.drop(a,axis=1)"
   ]
  },
  {
   "cell_type": "code",
   "execution_count": 32,
   "metadata": {
    "execution": {
     "iopub.execute_input": "2020-08-23T14:56:07.719903Z",
     "iopub.status.busy": "2020-08-23T14:56:07.718927Z",
     "iopub.status.idle": "2020-08-23T14:56:07.724775Z",
     "shell.execute_reply": "2020-08-23T14:56:07.724092Z"
    },
    "papermill": {
     "duration": 0.034647,
     "end_time": "2020-08-23T14:56:07.724915",
     "exception": false,
     "start_time": "2020-08-23T14:56:07.690268",
     "status": "completed"
    },
    "tags": []
   },
   "outputs": [
    {
     "data": {
      "text/plain": [
       "((18834, 95), (8072, 95))"
      ]
     },
     "execution_count": 32,
     "metadata": {},
     "output_type": "execute_result"
    }
   ],
   "source": [
    "x.shape,test.shape"
   ]
  },
  {
   "cell_type": "code",
   "execution_count": 33,
   "metadata": {
    "execution": {
     "iopub.execute_input": "2020-08-23T14:56:07.776344Z",
     "iopub.status.busy": "2020-08-23T14:56:07.775273Z",
     "iopub.status.idle": "2020-08-23T14:56:07.795579Z",
     "shell.execute_reply": "2020-08-23T14:56:07.794740Z"
    },
    "papermill": {
     "duration": 0.048877,
     "end_time": "2020-08-23T14:56:07.795744",
     "exception": false,
     "start_time": "2020-08-23T14:56:07.746867",
     "status": "completed"
    },
    "tags": []
   },
   "outputs": [],
   "source": [
    "#again combining\n",
    "all_data = pd.concat((x, test)).reset_index(drop=True)"
   ]
  },
  {
   "cell_type": "markdown",
   "metadata": {
    "papermill": {
     "duration": 0.022106,
     "end_time": "2020-08-23T14:56:07.840374",
     "exception": false,
     "start_time": "2020-08-23T14:56:07.818268",
     "status": "completed"
    },
    "tags": []
   },
   "source": [
    "**Scaling using StandardScaler()**"
   ]
  },
  {
   "cell_type": "code",
   "execution_count": 34,
   "metadata": {
    "execution": {
     "iopub.execute_input": "2020-08-23T14:56:07.893583Z",
     "iopub.status.busy": "2020-08-23T14:56:07.892731Z",
     "iopub.status.idle": "2020-08-23T14:56:09.164249Z",
     "shell.execute_reply": "2020-08-23T14:56:09.164840Z"
    },
    "papermill": {
     "duration": 1.301762,
     "end_time": "2020-08-23T14:56:09.165066",
     "exception": false,
     "start_time": "2020-08-23T14:56:07.863304",
     "status": "completed"
    },
    "tags": []
   },
   "outputs": [],
   "source": [
    "from sklearn import preprocessing\n",
    "# Get column names first\n",
    "names = all_data.columns\n",
    "# Create the Scaler object\n",
    "scaler = preprocessing.StandardScaler()\n",
    "# Fit your data on the scaler object\n",
    "scaled_df = scaler.fit_transform(all_data)\n",
    "all_data = pd.DataFrame(scaled_df, columns=names)"
   ]
  },
  {
   "cell_type": "markdown",
   "metadata": {
    "papermill": {
     "duration": 0.021504,
     "end_time": "2020-08-23T14:56:09.208837",
     "exception": false,
     "start_time": "2020-08-23T14:56:09.187333",
     "status": "completed"
    },
    "tags": []
   },
   "source": [
    "# split data for 1st model i.e., pet_category prediction"
   ]
  },
  {
   "cell_type": "code",
   "execution_count": 35,
   "metadata": {
    "execution": {
     "iopub.execute_input": "2020-08-23T14:56:09.261125Z",
     "iopub.status.busy": "2020-08-23T14:56:09.259941Z",
     "iopub.status.idle": "2020-08-23T14:56:09.264567Z",
     "shell.execute_reply": "2020-08-23T14:56:09.263746Z"
    },
    "papermill": {
     "duration": 0.03375,
     "end_time": "2020-08-23T14:56:09.264720",
     "exception": false,
     "start_time": "2020-08-23T14:56:09.230970",
     "status": "completed"
    },
    "tags": []
   },
   "outputs": [],
   "source": [
    "x = all_data[:ntrain]\n",
    "test = all_data[ntrain:]"
   ]
  },
  {
   "cell_type": "code",
   "execution_count": 36,
   "metadata": {
    "execution": {
     "iopub.execute_input": "2020-08-23T14:56:09.318138Z",
     "iopub.status.busy": "2020-08-23T14:56:09.317295Z",
     "iopub.status.idle": "2020-08-23T14:56:09.402128Z",
     "shell.execute_reply": "2020-08-23T14:56:09.401197Z"
    },
    "papermill": {
     "duration": 0.114552,
     "end_time": "2020-08-23T14:56:09.402299",
     "exception": false,
     "start_time": "2020-08-23T14:56:09.287747",
     "status": "completed"
    },
    "tags": []
   },
   "outputs": [],
   "source": [
    "from sklearn.model_selection import train_test_split\n",
    "x1_train,x1_test,y1_train,y1_test=train_test_split(x,y2,test_size=0.2,random_state=44,shuffle=True)"
   ]
  },
  {
   "cell_type": "code",
   "execution_count": 37,
   "metadata": {
    "execution": {
     "iopub.execute_input": "2020-08-23T14:56:09.456107Z",
     "iopub.status.busy": "2020-08-23T14:56:09.455200Z",
     "iopub.status.idle": "2020-08-23T14:56:10.533887Z",
     "shell.execute_reply": "2020-08-23T14:56:10.532521Z"
    },
    "papermill": {
     "duration": 1.10833,
     "end_time": "2020-08-23T14:56:10.534064",
     "exception": false,
     "start_time": "2020-08-23T14:56:09.425734",
     "status": "completed"
    },
    "tags": []
   },
   "outputs": [],
   "source": [
    "from xgboost import XGBClassifier"
   ]
  },
  {
   "cell_type": "code",
   "execution_count": 38,
   "metadata": {
    "execution": {
     "iopub.execute_input": "2020-08-23T14:56:10.593205Z",
     "iopub.status.busy": "2020-08-23T14:56:10.592109Z",
     "iopub.status.idle": "2020-08-23T14:57:17.072038Z",
     "shell.execute_reply": "2020-08-23T14:57:17.072767Z"
    },
    "papermill": {
     "duration": 66.515442,
     "end_time": "2020-08-23T14:57:17.073007",
     "exception": false,
     "start_time": "2020-08-23T14:56:10.557565",
     "status": "completed"
    },
    "tags": []
   },
   "outputs": [
    {
     "data": {
      "text/plain": [
       "XGBClassifier(base_score=0.5, booster='gbtree', colsample_bylevel=1,\n",
       "              colsample_bynode=1, colsample_bytree=1, gamma=0, gpu_id=-1,\n",
       "              importance_type='gain', interaction_constraints='',\n",
       "              learning_rate=0.05, max_delta_step=0, max_depth=7,\n",
       "              min_child_weight=1, missing=nan, monotone_constraints='()',\n",
       "              n_estimators=500, n_jobs=0, num_parallel_tree=1,\n",
       "              objective='multi:softprob', random_state=0, reg_alpha=0,\n",
       "              reg_lambda=1, scale_pos_weight=None, subsample=1,\n",
       "              tree_method='exact', validate_parameters=1, verbosity=None)"
      ]
     },
     "execution_count": 38,
     "metadata": {},
     "output_type": "execute_result"
    }
   ],
   "source": [
    "model1 = XGBClassifier(max_depth=7, n_estimators=500, learning_rate=0.05)\n",
    "model1.fit(x1_train, y1_train)"
   ]
  },
  {
   "cell_type": "markdown",
   "metadata": {
    "papermill": {
     "duration": 0.027571,
     "end_time": "2020-08-23T14:57:17.128475",
     "exception": false,
     "start_time": "2020-08-23T14:57:17.100904",
     "status": "completed"
    },
    "tags": []
   },
   "source": [
    "# build 2nd model i.e predict breed_category"
   ]
  },
  {
   "cell_type": "markdown",
   "metadata": {
    "papermill": {
     "duration": 0.026864,
     "end_time": "2020-08-23T14:57:17.183656",
     "exception": false,
     "start_time": "2020-08-23T14:57:17.156792",
     "status": "completed"
    },
    "tags": []
   },
   "source": [
    "build new dataset for model 2"
   ]
  },
  {
   "cell_type": "code",
   "execution_count": 39,
   "metadata": {
    "execution": {
     "iopub.execute_input": "2020-08-23T14:57:17.241233Z",
     "iopub.status.busy": "2020-08-23T14:57:17.240424Z",
     "iopub.status.idle": "2020-08-23T14:57:19.091585Z",
     "shell.execute_reply": "2020-08-23T14:57:19.092340Z"
    },
    "papermill": {
     "duration": 1.885001,
     "end_time": "2020-08-23T14:57:19.092607",
     "exception": false,
     "start_time": "2020-08-23T14:57:17.207606",
     "status": "completed"
    },
    "tags": []
   },
   "outputs": [],
   "source": [
    "#new_feat is new feature i.e the predicted pet_category of model 1 for train data\n",
    "new_feat=model1.predict(x)\n",
    "#output1 is new first output i.e the predicted pet_category of model 1 for test data\n",
    "output1=model1.predict(test)\n",
    "#vld1 is validation 1 i.e we'll check score with the predicted result of validation data of model 1\n",
    "vld1=model1.predict(x1_test)"
   ]
  },
  {
   "cell_type": "code",
   "execution_count": 40,
   "metadata": {
    "execution": {
     "iopub.execute_input": "2020-08-23T14:57:19.157805Z",
     "iopub.status.busy": "2020-08-23T14:57:19.156875Z",
     "iopub.status.idle": "2020-08-23T14:57:19.158868Z",
     "shell.execute_reply": "2020-08-23T14:57:19.159695Z"
    },
    "papermill": {
     "duration": 0.038602,
     "end_time": "2020-08-23T14:57:19.159928",
     "exception": false,
     "start_time": "2020-08-23T14:57:19.121326",
     "status": "completed"
    },
    "tags": []
   },
   "outputs": [],
   "source": [
    "x2 = pd.DataFrame(x, columns=names)\n",
    "test2 = pd.DataFrame(test, columns=names)"
   ]
  },
  {
   "cell_type": "code",
   "execution_count": 41,
   "metadata": {
    "execution": {
     "iopub.execute_input": "2020-08-23T14:57:19.224507Z",
     "iopub.status.busy": "2020-08-23T14:57:19.223274Z",
     "iopub.status.idle": "2020-08-23T14:57:19.229506Z",
     "shell.execute_reply": "2020-08-23T14:57:19.230234Z"
    },
    "papermill": {
     "duration": 0.041252,
     "end_time": "2020-08-23T14:57:19.230525",
     "exception": false,
     "start_time": "2020-08-23T14:57:19.189273",
     "status": "completed"
    },
    "tags": []
   },
   "outputs": [],
   "source": [
    "#the predicted pet_category of model 1 for train data is used as a input variable or feature of the train data of model 2\n",
    "x2['output1']=new_feat\n",
    "#the predicted pet_category of model 1 for test data is used as a input variable or feature of the test data of model 2\n",
    "test2['output1']=output1"
   ]
  },
  {
   "cell_type": "markdown",
   "metadata": {
    "papermill": {
     "duration": 0.028031,
     "end_time": "2020-08-23T14:57:19.288353",
     "exception": false,
     "start_time": "2020-08-23T14:57:19.260322",
     "status": "completed"
    },
    "tags": []
   },
   "source": [
    "**split data for model 2**"
   ]
  },
  {
   "cell_type": "code",
   "execution_count": 42,
   "metadata": {
    "execution": {
     "iopub.execute_input": "2020-08-23T14:57:19.347627Z",
     "iopub.status.busy": "2020-08-23T14:57:19.346727Z",
     "iopub.status.idle": "2020-08-23T14:57:19.366307Z",
     "shell.execute_reply": "2020-08-23T14:57:19.365421Z"
    },
    "papermill": {
     "duration": 0.05396,
     "end_time": "2020-08-23T14:57:19.366484",
     "exception": false,
     "start_time": "2020-08-23T14:57:19.312524",
     "status": "completed"
    },
    "tags": []
   },
   "outputs": [],
   "source": [
    "x2_train,x2_test,y2_train,y2_test=train_test_split(x2,y1,test_size=0.2,random_state=44)"
   ]
  },
  {
   "cell_type": "markdown",
   "metadata": {
    "papermill": {
     "duration": 0.02336,
     "end_time": "2020-08-23T14:57:19.417019",
     "exception": false,
     "start_time": "2020-08-23T14:57:19.393659",
     "status": "completed"
    },
    "tags": []
   },
   "source": [
    "**Build model 2 and train the model with new data**"
   ]
  },
  {
   "cell_type": "code",
   "execution_count": 43,
   "metadata": {
    "execution": {
     "iopub.execute_input": "2020-08-23T14:57:19.476364Z",
     "iopub.status.busy": "2020-08-23T14:57:19.475541Z",
     "iopub.status.idle": "2020-08-23T14:57:57.393903Z",
     "shell.execute_reply": "2020-08-23T14:57:57.394608Z"
    },
    "papermill": {
     "duration": 37.952137,
     "end_time": "2020-08-23T14:57:57.394838",
     "exception": false,
     "start_time": "2020-08-23T14:57:19.442701",
     "status": "completed"
    },
    "tags": []
   },
   "outputs": [
    {
     "data": {
      "text/plain": [
       "XGBClassifier(base_score=0.5, booster='gbtree', colsample_bylevel=1,\n",
       "              colsample_bynode=1, colsample_bytree=1, gamma=0, gpu_id=-1,\n",
       "              importance_type='gain', interaction_constraints='',\n",
       "              learning_rate=0.05, max_delta_step=0, max_depth=7,\n",
       "              min_child_weight=1, missing=nan, monotone_constraints='()',\n",
       "              n_estimators=500, n_jobs=0, num_parallel_tree=1,\n",
       "              objective='multi:softprob', random_state=0, reg_alpha=0,\n",
       "              reg_lambda=1, scale_pos_weight=None, subsample=1,\n",
       "              tree_method='exact', validate_parameters=1, verbosity=None)"
      ]
     },
     "execution_count": 43,
     "metadata": {},
     "output_type": "execute_result"
    }
   ],
   "source": [
    "model2 = XGBClassifier(max_depth=7, n_estimators=500, learning_rate=0.05)\n",
    "model2.fit(x2_train, y2_train)"
   ]
  },
  {
   "cell_type": "code",
   "execution_count": 44,
   "metadata": {
    "execution": {
     "iopub.execute_input": "2020-08-23T14:57:57.458940Z",
     "iopub.status.busy": "2020-08-23T14:57:57.457327Z",
     "iopub.status.idle": "2020-08-23T14:57:57.748502Z",
     "shell.execute_reply": "2020-08-23T14:57:57.749219Z"
    },
    "papermill": {
     "duration": 0.327513,
     "end_time": "2020-08-23T14:57:57.749468",
     "exception": false,
     "start_time": "2020-08-23T14:57:57.421955",
     "status": "completed"
    },
    "tags": []
   },
   "outputs": [],
   "source": [
    "#output 2 is the predicted breed_category of model 2 for test data\n",
    "output2=model2.predict(test)\n",
    "#vld2 is validation 2 i.e we'll check score with the predicted result of validation data of model 2\n",
    "vld2=model2.predict(x2_test)"
   ]
  },
  {
   "cell_type": "markdown",
   "metadata": {
    "papermill": {
     "duration": 0.02753,
     "end_time": "2020-08-23T14:57:57.805169",
     "exception": false,
     "start_time": "2020-08-23T14:57:57.777639",
     "status": "completed"
    },
    "tags": []
   },
   "source": [
    "# Check Accuracy"
   ]
  },
  {
   "cell_type": "code",
   "execution_count": 45,
   "metadata": {
    "execution": {
     "iopub.execute_input": "2020-08-23T14:57:57.868876Z",
     "iopub.status.busy": "2020-08-23T14:57:57.867744Z",
     "iopub.status.idle": "2020-08-23T14:57:57.870081Z",
     "shell.execute_reply": "2020-08-23T14:57:57.870910Z"
    },
    "papermill": {
     "duration": 0.037926,
     "end_time": "2020-08-23T14:57:57.871126",
     "exception": false,
     "start_time": "2020-08-23T14:57:57.833200",
     "status": "completed"
    },
    "tags": []
   },
   "outputs": [],
   "source": [
    "from sklearn.metrics  import f1_score"
   ]
  },
  {
   "cell_type": "code",
   "execution_count": 46,
   "metadata": {
    "execution": {
     "iopub.execute_input": "2020-08-23T14:57:57.936623Z",
     "iopub.status.busy": "2020-08-23T14:57:57.935480Z",
     "iopub.status.idle": "2020-08-23T14:57:57.950071Z",
     "shell.execute_reply": "2020-08-23T14:57:57.949379Z"
    },
    "papermill": {
     "duration": 0.051111,
     "end_time": "2020-08-23T14:57:57.950208",
     "exception": false,
     "start_time": "2020-08-23T14:57:57.899097",
     "status": "completed"
    },
    "tags": []
   },
   "outputs": [
    {
     "data": {
      "text/plain": [
       "90.3967441962626"
      ]
     },
     "execution_count": 46,
     "metadata": {},
     "output_type": "execute_result"
    }
   ],
   "source": [
    "s1=f1_score(y1_test,vld1,average='weighted')\n",
    "s2=f1_score(y2_test,vld2,average='weighted')\n",
    "accuracy=100*((s1+s2)/2)\n",
    "accuracy"
   ]
  },
  {
   "cell_type": "markdown",
   "metadata": {
    "papermill": {
     "duration": 0.022734,
     "end_time": "2020-08-23T14:57:57.996640",
     "exception": false,
     "start_time": "2020-08-23T14:57:57.973906",
     "status": "completed"
    },
    "tags": []
   },
   "source": [
    "without any hyperparameter tuning,it shows a good score.let's create a submission file"
   ]
  },
  {
   "cell_type": "markdown",
   "metadata": {
    "papermill": {
     "duration": 0.022678,
     "end_time": "2020-08-23T14:57:58.042298",
     "exception": false,
     "start_time": "2020-08-23T14:57:58.019620",
     "status": "completed"
    },
    "tags": []
   },
   "source": [
    "# Create Submission file"
   ]
  },
  {
   "cell_type": "code",
   "execution_count": 47,
   "metadata": {
    "execution": {
     "iopub.execute_input": "2020-08-23T14:57:58.096986Z",
     "iopub.status.busy": "2020-08-23T14:57:58.096197Z",
     "iopub.status.idle": "2020-08-23T14:57:58.192566Z",
     "shell.execute_reply": "2020-08-23T14:57:58.191875Z"
    },
    "papermill": {
     "duration": 0.12728,
     "end_time": "2020-08-23T14:57:58.192704",
     "exception": false,
     "start_time": "2020-08-23T14:57:58.065424",
     "status": "completed"
    },
    "tags": []
   },
   "outputs": [],
   "source": [
    "sub_new=pd.DataFrame({\n",
    "    \"pet_id\":test_id,\n",
    "    \"breed_category\":output2,\n",
    "    \"pet_category\":output1\n",
    "})\n",
    "sub_new.to_csv(\"sub_new.csv\",index=False)"
   ]
  }
 ],
 "metadata": {
  "kernelspec": {
   "display_name": "Python 3",
   "language": "python",
   "name": "python3"
  },
  "language_info": {
   "codemirror_mode": {
    "name": "ipython",
    "version": 3
   },
   "file_extension": ".py",
   "mimetype": "text/x-python",
   "name": "python",
   "nbconvert_exporter": "python",
   "pygments_lexer": "ipython3",
   "version": "3.7.6"
  },
  "papermill": {
   "duration": 120.966537,
   "end_time": "2020-08-23T14:57:58.326567",
   "environment_variables": {},
   "exception": null,
   "input_path": "__notebook__.ipynb",
   "output_path": "__notebook__.ipynb",
   "parameters": {},
   "start_time": "2020-08-23T14:55:57.360030",
   "version": "2.1.0"
  }
 },
 "nbformat": 4,
 "nbformat_minor": 4
}